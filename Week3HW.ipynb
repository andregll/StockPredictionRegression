{
  "nbformat": 4,
  "nbformat_minor": 0,
  "metadata": {
    "colab": {
      "name": "Week3HW",
      "version": "0.3.2",
      "provenance": [],
      "collapsed_sections": [],
      "include_colab_link": true
    },
    "kernelspec": {
      "name": "python3",
      "display_name": "Python 3"
    }
  },
  "cells": [
    {
      "cell_type": "markdown",
      "metadata": {
        "id": "view-in-github",
        "colab_type": "text"
      },
      "source": [
        "<a href=\"https://colab.research.google.com/github/andregll/StockPredictionRegression/blob/master/Week3HW.ipynb\" target=\"_parent\"><img src=\"https://colab.research.google.com/assets/colab-badge.svg\" alt=\"Open In Colab\"/></a>"
      ]
    },
    {
      "cell_type": "code",
      "metadata": {
        "id": "Tl29t8jRfMYk",
        "colab_type": "code",
        "outputId": "421bdb59-b5ae-4783-860c-c629887380c8",
        "colab": {
          "base_uri": "https://localhost:8080/",
          "height": 125
        }
      },
      "source": [
        "import numpy as np\n",
        "import pandas as pd\n",
        "import matplotlib.pyplot as plt\n",
        "\n",
        "\n",
        "\n",
        "\n",
        "from pandas_datareader import data as pdr\n",
        "import fix_yahoo_finance as yf\n",
        "\n",
        "!pip install yfinance upgrade no cache dir\n",
        "yf.pdr_override()\n",
        "\n",
        "\n",
        "\n",
        "from google.colab import drive\n",
        "\n",
        "\n",
        "\n",
        "from sklearn.linear_model  import LinearRegression, Ridge, Lasso\n",
        "from sklearn import preprocessing\n",
        "from sklearn.model_selection import train_test_split\n",
        "from sklearn.ensemble import GradientBoostingRegressor\n",
        "\n",
        "from sklearn import metrics"
      ],
      "execution_count": 0,
      "outputs": [
        {
          "output_type": "stream",
          "text": [
            "Collecting yfinance\n",
            "  Downloading https://files.pythonhosted.org/packages/53/0e/40387099824c98be22cd7e33a620e9d38b61998b031f0b33f0b9959717d2/yfinance-0.1.45.tar.gz\n",
            "Collecting upgrade\n",
            "\u001b[31m  ERROR: Could not find a version that satisfies the requirement upgrade (from versions: none)\u001b[0m\n",
            "\u001b[31mERROR: No matching distribution found for upgrade\u001b[0m\n"
          ],
          "name": "stdout"
        }
      ]
    },
    {
      "cell_type": "code",
      "metadata": {
        "id": "RCsa662fiNYm",
        "colab_type": "code",
        "outputId": "117b3b73-00fb-4a45-b90b-14e1e42a1365",
        "colab": {
          "base_uri": "https://localhost:8080/",
          "height": 142
        }
      },
      "source": [
        "drive.mount('/content/drive',force_remount=True)\n",
        "%cd \"/content/drive/My Drive/Week3\"\n"
      ],
      "execution_count": 0,
      "outputs": [
        {
          "output_type": "stream",
          "text": [
            "Go to this URL in a browser: https://accounts.google.com/o/oauth2/auth?client_id=947318989803-6bn6qk8qdgf4n4g3pfee6491hc0brc4i.apps.googleusercontent.com&redirect_uri=urn%3Aietf%3Awg%3Aoauth%3A2.0%3Aoob&scope=email%20https%3A%2F%2Fwww.googleapis.com%2Fauth%2Fdocs.test%20https%3A%2F%2Fwww.googleapis.com%2Fauth%2Fdrive%20https%3A%2F%2Fwww.googleapis.com%2Fauth%2Fdrive.photos.readonly%20https%3A%2F%2Fwww.googleapis.com%2Fauth%2Fpeopleapi.readonly&response_type=code\n",
            "\n",
            "Enter your authorization code:\n",
            "··········\n",
            "Mounted at /content/drive\n",
            "/content/drive/My Drive/Week3\n"
          ],
          "name": "stdout"
        }
      ]
    },
    {
      "cell_type": "markdown",
      "metadata": {
        "id": "Sq6HxO_Zjn6A",
        "colab_type": "text"
      },
      "source": [
        "IMPORT DATA"
      ]
    },
    {
      "cell_type": "code",
      "metadata": {
        "id": "0Oatj5oYjxP_",
        "colab_type": "code",
        "outputId": "4e821fd8-63e9-405c-b13a-1d82f9085b72",
        "colab": {
          "base_uri": "https://localhost:8080/",
          "height": 34
        }
      },
      "source": [
        "df_full = pdr.get_data_yahoo(\"GE\", start=\"2018-01-01\").reset_index()\n",
        "df_full.to_csv('output/GE.csv',index=False)"
      ],
      "execution_count": 0,
      "outputs": [
        {
          "output_type": "stream",
          "text": [
            "[*********************100%***********************]  1 of 1 downloaded\n"
          ],
          "name": "stdout"
        }
      ]
    },
    {
      "cell_type": "code",
      "metadata": {
        "id": "dE8Km9bgm9Vb",
        "colab_type": "code",
        "outputId": "8aeae5db-849b-49db-fce3-15d0e5210c09",
        "colab": {
          "base_uri": "https://localhost:8080/",
          "height": 34
        }
      },
      "source": [
        "df_full.shape"
      ],
      "execution_count": 0,
      "outputs": [
        {
          "output_type": "execute_result",
          "data": {
            "text/plain": [
              "(425, 7)"
            ]
          },
          "metadata": {
            "tags": []
          },
          "execution_count": 4
        }
      ]
    },
    {
      "cell_type": "code",
      "metadata": {
        "id": "nMSs4t4dm-Nw",
        "colab_type": "code",
        "outputId": "bf17366c-b5b8-4926-9bfa-35bb24226c19",
        "colab": {
          "base_uri": "https://localhost:8080/",
          "height": 195
        }
      },
      "source": [
        "df_full.head()"
      ],
      "execution_count": 0,
      "outputs": [
        {
          "output_type": "execute_result",
          "data": {
            "text/html": [
              "<div>\n",
              "<style scoped>\n",
              "    .dataframe tbody tr th:only-of-type {\n",
              "        vertical-align: middle;\n",
              "    }\n",
              "\n",
              "    .dataframe tbody tr th {\n",
              "        vertical-align: top;\n",
              "    }\n",
              "\n",
              "    .dataframe thead th {\n",
              "        text-align: right;\n",
              "    }\n",
              "</style>\n",
              "<table border=\"1\" class=\"dataframe\">\n",
              "  <thead>\n",
              "    <tr style=\"text-align: right;\">\n",
              "      <th></th>\n",
              "      <th>Date</th>\n",
              "      <th>Open</th>\n",
              "      <th>High</th>\n",
              "      <th>Low</th>\n",
              "      <th>Close</th>\n",
              "      <th>Adj Close</th>\n",
              "      <th>Volume</th>\n",
              "    </tr>\n",
              "  </thead>\n",
              "  <tbody>\n",
              "    <tr>\n",
              "      <th>0</th>\n",
              "      <td>2018-01-02</td>\n",
              "      <td>16.903847</td>\n",
              "      <td>17.298077</td>\n",
              "      <td>16.855770</td>\n",
              "      <td>17.288462</td>\n",
              "      <td>16.759356</td>\n",
              "      <td>80673100</td>\n",
              "    </tr>\n",
              "    <tr>\n",
              "      <th>1</th>\n",
              "      <td>2018-01-03</td>\n",
              "      <td>17.596153</td>\n",
              "      <td>17.634615</td>\n",
              "      <td>17.336538</td>\n",
              "      <td>17.451923</td>\n",
              "      <td>16.917818</td>\n",
              "      <td>84731100</td>\n",
              "    </tr>\n",
              "    <tr>\n",
              "      <th>2</th>\n",
              "      <td>2018-01-04</td>\n",
              "      <td>17.673077</td>\n",
              "      <td>17.903847</td>\n",
              "      <td>17.596153</td>\n",
              "      <td>17.817308</td>\n",
              "      <td>17.272022</td>\n",
              "      <td>85856600</td>\n",
              "    </tr>\n",
              "    <tr>\n",
              "      <th>3</th>\n",
              "      <td>2018-01-05</td>\n",
              "      <td>18.134615</td>\n",
              "      <td>18.144230</td>\n",
              "      <td>17.788462</td>\n",
              "      <td>17.826923</td>\n",
              "      <td>17.281342</td>\n",
              "      <td>83074800</td>\n",
              "    </tr>\n",
              "    <tr>\n",
              "      <th>4</th>\n",
              "      <td>2018-01-08</td>\n",
              "      <td>17.951923</td>\n",
              "      <td>17.980770</td>\n",
              "      <td>17.403847</td>\n",
              "      <td>17.576923</td>\n",
              "      <td>17.038992</td>\n",
              "      <td>85381500</td>\n",
              "    </tr>\n",
              "  </tbody>\n",
              "</table>\n",
              "</div>"
            ],
            "text/plain": [
              "        Date       Open       High        Low      Close  Adj Close    Volume\n",
              "0 2018-01-02  16.903847  17.298077  16.855770  17.288462  16.759356  80673100\n",
              "1 2018-01-03  17.596153  17.634615  17.336538  17.451923  16.917818  84731100\n",
              "2 2018-01-04  17.673077  17.903847  17.596153  17.817308  17.272022  85856600\n",
              "3 2018-01-05  18.134615  18.144230  17.788462  17.826923  17.281342  83074800\n",
              "4 2018-01-08  17.951923  17.980770  17.403847  17.576923  17.038992  85381500"
            ]
          },
          "metadata": {
            "tags": []
          },
          "execution_count": 5
        }
      ]
    },
    {
      "cell_type": "code",
      "metadata": {
        "id": "Rnq1jV2FnNDZ",
        "colab_type": "code",
        "outputId": "a07c2390-6d44-4b8e-b9de-e71418bf6511",
        "colab": {
          "base_uri": "https://localhost:8080/",
          "height": 284
        }
      },
      "source": [
        "df_full.describe()"
      ],
      "execution_count": 0,
      "outputs": [
        {
          "output_type": "execute_result",
          "data": {
            "text/html": [
              "<div>\n",
              "<style scoped>\n",
              "    .dataframe tbody tr th:only-of-type {\n",
              "        vertical-align: middle;\n",
              "    }\n",
              "\n",
              "    .dataframe tbody tr th {\n",
              "        vertical-align: top;\n",
              "    }\n",
              "\n",
              "    .dataframe thead th {\n",
              "        text-align: right;\n",
              "    }\n",
              "</style>\n",
              "<table border=\"1\" class=\"dataframe\">\n",
              "  <thead>\n",
              "    <tr style=\"text-align: right;\">\n",
              "      <th></th>\n",
              "      <th>Open</th>\n",
              "      <th>High</th>\n",
              "      <th>Low</th>\n",
              "      <th>Close</th>\n",
              "      <th>Adj Close</th>\n",
              "      <th>Volume</th>\n",
              "    </tr>\n",
              "  </thead>\n",
              "  <tbody>\n",
              "    <tr>\n",
              "      <th>count</th>\n",
              "      <td>425.000000</td>\n",
              "      <td>425.000000</td>\n",
              "      <td>425.000000</td>\n",
              "      <td>425.000000</td>\n",
              "      <td>425.000000</td>\n",
              "      <td>4.250000e+02</td>\n",
              "    </tr>\n",
              "    <tr>\n",
              "      <th>mean</th>\n",
              "      <td>11.283268</td>\n",
              "      <td>11.448550</td>\n",
              "      <td>11.101181</td>\n",
              "      <td>11.260252</td>\n",
              "      <td>11.130271</td>\n",
              "      <td>8.778346e+07</td>\n",
              "    </tr>\n",
              "    <tr>\n",
              "      <th>std</th>\n",
              "      <td>2.467347</td>\n",
              "      <td>2.465387</td>\n",
              "      <td>2.449861</td>\n",
              "      <td>2.448415</td>\n",
              "      <td>2.311897</td>\n",
              "      <td>5.414886e+07</td>\n",
              "    </tr>\n",
              "    <tr>\n",
              "      <th>min</th>\n",
              "      <td>6.576923</td>\n",
              "      <td>6.759615</td>\n",
              "      <td>6.403846</td>\n",
              "      <td>6.451923</td>\n",
              "      <td>6.429700</td>\n",
              "      <td>2.217560e+07</td>\n",
              "    </tr>\n",
              "    <tr>\n",
              "      <th>25%</th>\n",
              "      <td>9.510000</td>\n",
              "      <td>9.711538</td>\n",
              "      <td>9.320000</td>\n",
              "      <td>9.560000</td>\n",
              "      <td>9.550808</td>\n",
              "      <td>5.174820e+07</td>\n",
              "    </tr>\n",
              "    <tr>\n",
              "      <th>50%</th>\n",
              "      <td>10.790000</td>\n",
              "      <td>10.900000</td>\n",
              "      <td>10.530000</td>\n",
              "      <td>10.650000</td>\n",
              "      <td>10.638479</td>\n",
              "      <td>7.221170e+07</td>\n",
              "    </tr>\n",
              "    <tr>\n",
              "      <th>75%</th>\n",
              "      <td>13.182693</td>\n",
              "      <td>13.355769</td>\n",
              "      <td>13.038462</td>\n",
              "      <td>13.153846</td>\n",
              "      <td>12.955078</td>\n",
              "      <td>1.060504e+08</td>\n",
              "    </tr>\n",
              "    <tr>\n",
              "      <th>max</th>\n",
              "      <td>18.490385</td>\n",
              "      <td>18.644230</td>\n",
              "      <td>18.269230</td>\n",
              "      <td>18.288462</td>\n",
              "      <td>17.728752</td>\n",
              "      <td>4.010487e+08</td>\n",
              "    </tr>\n",
              "  </tbody>\n",
              "</table>\n",
              "</div>"
            ],
            "text/plain": [
              "             Open        High         Low       Close   Adj Close        Volume\n",
              "count  425.000000  425.000000  425.000000  425.000000  425.000000  4.250000e+02\n",
              "mean    11.283268   11.448550   11.101181   11.260252   11.130271  8.778346e+07\n",
              "std      2.467347    2.465387    2.449861    2.448415    2.311897  5.414886e+07\n",
              "min      6.576923    6.759615    6.403846    6.451923    6.429700  2.217560e+07\n",
              "25%      9.510000    9.711538    9.320000    9.560000    9.550808  5.174820e+07\n",
              "50%     10.790000   10.900000   10.530000   10.650000   10.638479  7.221170e+07\n",
              "75%     13.182693   13.355769   13.038462   13.153846   12.955078  1.060504e+08\n",
              "max     18.490385   18.644230   18.269230   18.288462   17.728752  4.010487e+08"
            ]
          },
          "metadata": {
            "tags": []
          },
          "execution_count": 6
        }
      ]
    },
    {
      "cell_type": "code",
      "metadata": {
        "id": "CbZqaA7RniPB",
        "colab_type": "code",
        "outputId": "da640212-9cdb-4dec-cb44-7ea303c759d4",
        "colab": {
          "base_uri": "https://localhost:8080/",
          "height": 286
        }
      },
      "source": [
        "df_full[\"Adj Close\"].plot()"
      ],
      "execution_count": 0,
      "outputs": [
        {
          "output_type": "execute_result",
          "data": {
            "text/plain": [
              "<matplotlib.axes._subplots.AxesSubplot at 0x7f7a3b465128>"
            ]
          },
          "metadata": {
            "tags": []
          },
          "execution_count": 7
        },
        {
          "output_type": "display_data",
          "data": {
            "image/png": "[encoded data removed]",
            "text/plain": [
              "<Figure size 432x288 with 1 Axes>"
            ]
          },
          "metadata": {
            "tags": []
          }
        }
      ]
    },
    {
      "cell_type": "markdown",
      "metadata": {
        "id": "2-3gEHuyrPdh",
        "colab_type": "text"
      },
      "source": [
        "PREPROCESSING\n"
      ]
    },
    {
      "cell_type": "code",
      "metadata": {
        "id": "CLymIJs0rRhU",
        "colab_type": "code",
        "colab": {}
      },
      "source": [
        "df_full.set_index(\"Date\", inplace=True)\n"
      ],
      "execution_count": 0,
      "outputs": []
    },
    {
      "cell_type": "code",
      "metadata": {
        "id": "u6VdZeJvrfDh",
        "colab_type": "code",
        "colab": {}
      },
      "source": [
        "window_size = 32\n",
        "num_samples=len(df_full)-window_size\n",
        "\n",
        "indices=np.arange(num_samples).astype(np.int)[:,None]+np.arange(window_size+1).astype(np.int)\n",
        "\n",
        "\n",
        "data = df_full['Adj Close'].values[indices]\n",
        "x = data[:,:-1]\n",
        "y = data[:,-1]\n",
        "\n",
        "\n",
        "\n",
        "\n"
      ],
      "execution_count": 0,
      "outputs": []
    },
    {
      "cell_type": "markdown",
      "metadata": {
        "id": "xLzOST0lreC9",
        "colab_type": "text"
      },
      "source": [
        "SPLITTING THE DATA BETWEEN TEST AND TRAIN"
      ]
    },
    {
      "cell_type": "code",
      "metadata": {
        "id": "_QROYqdilZh4",
        "colab_type": "code",
        "colab": {}
      },
      "source": [
        "split_fraction=0.8\n",
        "ind_split=int(split_fraction*num_samples)"
      ],
      "execution_count": 0,
      "outputs": []
    },
    {
      "cell_type": "code",
      "metadata": {
        "id": "f_BY6e8mlmBM",
        "colab_type": "code",
        "colab": {}
      },
      "source": [
        "x_train = x[:ind_split]\n",
        "y_train = y[:ind_split]\n",
        "x_test = x[ind_split:]\n",
        "y_test = y[ind_split:]"
      ],
      "execution_count": 0,
      "outputs": []
    },
    {
      "cell_type": "code",
      "metadata": {
        "id": "0ygjSqoqsJUt",
        "colab_type": "code",
        "outputId": "befdb14e-ed68-4d86-c025-bf5cf94601cf",
        "colab": {
          "base_uri": "https://localhost:8080/",
          "height": 34
        }
      },
      "source": [
        "x_train.shape\n"
      ],
      "execution_count": 0,
      "outputs": [
        {
          "output_type": "execute_result",
          "data": {
            "text/plain": [
              "(314, 32)"
            ]
          },
          "metadata": {
            "tags": []
          },
          "execution_count": 26
        }
      ]
    },
    {
      "cell_type": "markdown",
      "metadata": {
        "id": "EOAhZiQksXMB",
        "colab_type": "text"
      },
      "source": [
        "MODELING"
      ]
    },
    {
      "cell_type": "code",
      "metadata": {
        "id": "4AM6lVG_sYst",
        "colab_type": "code",
        "colab": {}
      },
      "source": [
        " #Help Functions\n",
        "  def get_performance (model_pred):\\n\",\n",
        "          #Function returns standard performance metrics\\n\",\n",
        "  print('Mean Absolute Error:', metrics.mean_absolute_error(y_test, model_pred).round(4))  \\n\",\n",
        "  print('Mean Squared Error:', metrics.mean_squared_error(y_test, model_pred).round(4))  \\n\",\n",
        "  print('Root Mean Squared Error:', np.sqrt(metrics.mean_squared_error(y_test, model_pred)).round(4))\\n\",\n",
        "        \n",
        "  def get_plot (model_pred):\\n\",\n",
        "  plt.scatter(model_pred, y_test, color=\\\"gray\\\")\\n\",\n",
        "      plt.plot(y_test, y_test, color='red', linewidth=2)\"\n"
      ],
      "execution_count": 0,
      "outputs": []
    }
  ]
}