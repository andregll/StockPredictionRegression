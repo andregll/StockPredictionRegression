{
  "nbformat": 4,
  "nbformat_minor": 0,
  "metadata": {
    "colab": {
      "name": "Week3HW",
      "version": "0.3.2",
      "provenance": [],
      "collapsed_sections": [],
      "include_colab_link": true
    },
    "kernelspec": {
      "name": "python3",
      "display_name": "Python 3"
    }
  },
  "cells": [
    {
      "cell_type": "markdown",
      "metadata": {
        "id": "view-in-github",
        "colab_type": "text"
      },
      "source": [
        "<a href=\"https://colab.research.google.com/github/andregll/StockPredictionRegression/blob/master/Week3HW.ipynb\" target=\"_parent\"><img src=\"https://colab.research.google.com/assets/colab-badge.svg\" alt=\"Open In Colab\"/></a>"
      ]
    },
    {
      "cell_type": "code",
      "metadata": {
        "id": "Tl29t8jRfMYk",
        "colab_type": "code",
        "outputId": "2d438c18-9e13-49b3-99b1-3e06b8c64f57",
        "colab": {
          "base_uri": "https://localhost:8080/",
          "height": 125
        }
      },
      "source": [
        "import numpy as np\n",
        "import pandas as pd\n",
        "import matplotlib.pyplot as plt\n",
        "\n",
        "\n",
        "\n",
        "\n",
        "from pandas_datareader import data as pdr\n",
        "import fix_yahoo_finance as yf\n",
        "\n",
        "!pip install yfinance upgrade no cache dir\n",
        "yf.pdr_override()\n",
        "\n",
        "\n",
        "\n",
        "from google.colab import drive\n",
        "\n",
        "\n",
        "\n",
        "from sklearn.linear_model  import LinearRegression, Ridge, Lasso\n",
        "from sklearn import preprocessing\n",
        "from sklearn.model_selection import train_test_split\n",
        "from sklearn.ensemble import GradientBoostingRegressor\n",
        "\n",
        "from sklearn import metrics"
      ],
      "execution_count": 1,
      "outputs": [
        {
          "output_type": "stream",
          "text": [
            "Collecting yfinance\n",
            "  Downloading https://files.pythonhosted.org/packages/53/0e/40387099824c98be22cd7e33a620e9d38b61998b031f0b33f0b9959717d2/yfinance-0.1.45.tar.gz\n",
            "Collecting upgrade\n",
            "\u001b[31m  ERROR: Could not find a version that satisfies the requirement upgrade (from versions: none)\u001b[0m\n",
            "\u001b[31mERROR: No matching distribution found for upgrade\u001b[0m\n"
          ],
          "name": "stdout"
        }
      ]
    },
    {
      "cell_type": "code",
      "metadata": {
        "id": "RCsa662fiNYm",
        "colab_type": "code",
        "outputId": "bce3c410-889c-4b21-a274-0a289ef02c4b",
        "colab": {
          "base_uri": "https://localhost:8080/",
          "height": 142
        }
      },
      "source": [
        "drive.mount('/content/drive',force_remount=True)\n",
        "%cd \"/content/drive/My Drive/Week3\"\n"
      ],
      "execution_count": 2,
      "outputs": [
        {
          "output_type": "stream",
          "text": [
            "Go to this URL in a browser: https://accounts.google.com/o/oauth2/auth?client_id=947318989803-6bn6qk8qdgf4n4g3pfee6491hc0brc4i.apps.googleusercontent.com&redirect_uri=urn%3Aietf%3Awg%3Aoauth%3A2.0%3Aoob&scope=email%20https%3A%2F%2Fwww.googleapis.com%2Fauth%2Fdocs.test%20https%3A%2F%2Fwww.googleapis.com%2Fauth%2Fdrive%20https%3A%2F%2Fwww.googleapis.com%2Fauth%2Fdrive.photos.readonly%20https%3A%2F%2Fwww.googleapis.com%2Fauth%2Fpeopleapi.readonly&response_type=code\n",
            "\n",
            "Enter your authorization code:\n",
            "··········\n",
            "Mounted at /content/drive\n",
            "/content/drive/My Drive/Week3\n"
          ],
          "name": "stdout"
        }
      ]
    },
    {
      "cell_type": "markdown",
      "metadata": {
        "id": "Sq6HxO_Zjn6A",
        "colab_type": "text"
      },
      "source": [
        "IMPORT DATA"
      ]
    },
    {
      "cell_type": "code",
      "metadata": {
        "id": "0Oatj5oYjxP_",
        "colab_type": "code",
        "outputId": "9d9e477b-6d7f-4725-8833-36b3650a3441",
        "colab": {
          "base_uri": "https://localhost:8080/",
          "height": 34
        }
      },
      "source": [
        "df_full = pdr.get_data_yahoo(\"GE\", start=\"2018-01-01\").reset_index()\n",
        "df_full.to_csv('output/GE.csv',index=False)"
      ],
      "execution_count": 3,
      "outputs": [
        {
          "output_type": "stream",
          "text": [
            "[*********************100%***********************]  1 of 1 downloaded\n"
          ],
          "name": "stdout"
        }
      ]
    },
    {
      "cell_type": "code",
      "metadata": {
        "id": "dE8Km9bgm9Vb",
        "colab_type": "code",
        "outputId": "8f7c955e-5d2b-49cc-82fc-1a1f11820e21",
        "colab": {
          "base_uri": "https://localhost:8080/",
          "height": 34
        }
      },
      "source": [
        "df_full.shape"
      ],
      "execution_count": 4,
      "outputs": [
        {
          "output_type": "execute_result",
          "data": {
            "text/plain": [
              "(428, 7)"
            ]
          },
          "metadata": {
            "tags": []
          },
          "execution_count": 4
        }
      ]
    },
    {
      "cell_type": "code",
      "metadata": {
        "id": "nMSs4t4dm-Nw",
        "colab_type": "code",
        "outputId": "8747793e-1ff9-46a4-eef5-bbcc8945bf7c",
        "colab": {
          "base_uri": "https://localhost:8080/",
          "height": 195
        }
      },
      "source": [
        "df_full.head()"
      ],
      "execution_count": 5,
      "outputs": [
        {
          "output_type": "execute_result",
          "data": {
            "text/html": [
              "<div>\n",
              "<style scoped>\n",
              "    .dataframe tbody tr th:only-of-type {\n",
              "        vertical-align: middle;\n",
              "    }\n",
              "\n",
              "    .dataframe tbody tr th {\n",
              "        vertical-align: top;\n",
              "    }\n",
              "\n",
              "    .dataframe thead th {\n",
              "        text-align: right;\n",
              "    }\n",
              "</style>\n",
              "<table border=\"1\" class=\"dataframe\">\n",
              "  <thead>\n",
              "    <tr style=\"text-align: right;\">\n",
              "      <th></th>\n",
              "      <th>Date</th>\n",
              "      <th>Open</th>\n",
              "      <th>High</th>\n",
              "      <th>Low</th>\n",
              "      <th>Close</th>\n",
              "      <th>Adj Close</th>\n",
              "      <th>Volume</th>\n",
              "    </tr>\n",
              "  </thead>\n",
              "  <tbody>\n",
              "    <tr>\n",
              "      <th>0</th>\n",
              "      <td>2018-01-02</td>\n",
              "      <td>16.903847</td>\n",
              "      <td>17.298077</td>\n",
              "      <td>16.855770</td>\n",
              "      <td>17.288462</td>\n",
              "      <td>16.741257</td>\n",
              "      <td>80673100</td>\n",
              "    </tr>\n",
              "    <tr>\n",
              "      <th>1</th>\n",
              "      <td>2018-01-03</td>\n",
              "      <td>17.596153</td>\n",
              "      <td>17.634615</td>\n",
              "      <td>17.336538</td>\n",
              "      <td>17.451923</td>\n",
              "      <td>16.899548</td>\n",
              "      <td>84731100</td>\n",
              "    </tr>\n",
              "    <tr>\n",
              "      <th>2</th>\n",
              "      <td>2018-01-04</td>\n",
              "      <td>17.673077</td>\n",
              "      <td>17.903847</td>\n",
              "      <td>17.596153</td>\n",
              "      <td>17.817308</td>\n",
              "      <td>17.253370</td>\n",
              "      <td>85856600</td>\n",
              "    </tr>\n",
              "    <tr>\n",
              "      <th>3</th>\n",
              "      <td>2018-01-05</td>\n",
              "      <td>18.134615</td>\n",
              "      <td>18.144230</td>\n",
              "      <td>17.788462</td>\n",
              "      <td>17.826923</td>\n",
              "      <td>17.262678</td>\n",
              "      <td>83074800</td>\n",
              "    </tr>\n",
              "    <tr>\n",
              "      <th>4</th>\n",
              "      <td>2018-01-08</td>\n",
              "      <td>17.951923</td>\n",
              "      <td>17.980770</td>\n",
              "      <td>17.403847</td>\n",
              "      <td>17.576923</td>\n",
              "      <td>17.020590</td>\n",
              "      <td>85381500</td>\n",
              "    </tr>\n",
              "  </tbody>\n",
              "</table>\n",
              "</div>"
            ],
            "text/plain": [
              "        Date       Open       High        Low      Close  Adj Close    Volume\n",
              "0 2018-01-02  16.903847  17.298077  16.855770  17.288462  16.741257  80673100\n",
              "1 2018-01-03  17.596153  17.634615  17.336538  17.451923  16.899548  84731100\n",
              "2 2018-01-04  17.673077  17.903847  17.596153  17.817308  17.253370  85856600\n",
              "3 2018-01-05  18.134615  18.144230  17.788462  17.826923  17.262678  83074800\n",
              "4 2018-01-08  17.951923  17.980770  17.403847  17.576923  17.020590  85381500"
            ]
          },
          "metadata": {
            "tags": []
          },
          "execution_count": 5
        }
      ]
    },
    {
      "cell_type": "code",
      "metadata": {
        "id": "Rnq1jV2FnNDZ",
        "colab_type": "code",
        "outputId": "958021ec-c442-4a02-d38f-9bc3456daa41",
        "colab": {
          "base_uri": "https://localhost:8080/",
          "height": 284
        }
      },
      "source": [
        "df_full.describe()"
      ],
      "execution_count": 6,
      "outputs": [
        {
          "output_type": "execute_result",
          "data": {
            "text/html": [
              "<div>\n",
              "<style scoped>\n",
              "    .dataframe tbody tr th:only-of-type {\n",
              "        vertical-align: middle;\n",
              "    }\n",
              "\n",
              "    .dataframe tbody tr th {\n",
              "        vertical-align: top;\n",
              "    }\n",
              "\n",
              "    .dataframe thead th {\n",
              "        text-align: right;\n",
              "    }\n",
              "</style>\n",
              "<table border=\"1\" class=\"dataframe\">\n",
              "  <thead>\n",
              "    <tr style=\"text-align: right;\">\n",
              "      <th></th>\n",
              "      <th>Open</th>\n",
              "      <th>High</th>\n",
              "      <th>Low</th>\n",
              "      <th>Close</th>\n",
              "      <th>Adj Close</th>\n",
              "      <th>Volume</th>\n",
              "    </tr>\n",
              "  </thead>\n",
              "  <tbody>\n",
              "    <tr>\n",
              "      <th>count</th>\n",
              "      <td>428.000000</td>\n",
              "      <td>428.000000</td>\n",
              "      <td>428.000000</td>\n",
              "      <td>428.000000</td>\n",
              "      <td>428.000000</td>\n",
              "      <td>4.280000e+02</td>\n",
              "    </tr>\n",
              "    <tr>\n",
              "      <th>mean</th>\n",
              "      <td>11.269273</td>\n",
              "      <td>11.434495</td>\n",
              "      <td>11.087423</td>\n",
              "      <td>11.246652</td>\n",
              "      <td>11.105600</td>\n",
              "      <td>8.757026e+07</td>\n",
              "    </tr>\n",
              "    <tr>\n",
              "      <th>std</th>\n",
              "      <td>2.464329</td>\n",
              "      <td>2.462420</td>\n",
              "      <td>2.446746</td>\n",
              "      <td>2.445178</td>\n",
              "      <td>2.306210</td>\n",
              "      <td>5.402407e+07</td>\n",
              "    </tr>\n",
              "    <tr>\n",
              "      <th>min</th>\n",
              "      <td>6.576923</td>\n",
              "      <td>6.759615</td>\n",
              "      <td>6.403846</td>\n",
              "      <td>6.451923</td>\n",
              "      <td>6.422756</td>\n",
              "      <td>2.217560e+07</td>\n",
              "    </tr>\n",
              "    <tr>\n",
              "      <th>25%</th>\n",
              "      <td>9.485289</td>\n",
              "      <td>9.670000</td>\n",
              "      <td>9.287500</td>\n",
              "      <td>9.490000</td>\n",
              "      <td>9.477473</td>\n",
              "      <td>5.173280e+07</td>\n",
              "    </tr>\n",
              "    <tr>\n",
              "      <th>50%</th>\n",
              "      <td>10.715000</td>\n",
              "      <td>10.820000</td>\n",
              "      <td>10.519807</td>\n",
              "      <td>10.630000</td>\n",
              "      <td>10.613526</td>\n",
              "      <td>7.106985e+07</td>\n",
              "    </tr>\n",
              "    <tr>\n",
              "      <th>75%</th>\n",
              "      <td>13.182693</td>\n",
              "      <td>13.355769</td>\n",
              "      <td>13.009615</td>\n",
              "      <td>13.139423</td>\n",
              "      <td>12.924086</td>\n",
              "      <td>1.045056e+08</td>\n",
              "    </tr>\n",
              "    <tr>\n",
              "      <th>max</th>\n",
              "      <td>18.490385</td>\n",
              "      <td>18.644230</td>\n",
              "      <td>18.269230</td>\n",
              "      <td>18.288462</td>\n",
              "      <td>17.709608</td>\n",
              "      <td>4.010487e+08</td>\n",
              "    </tr>\n",
              "  </tbody>\n",
              "</table>\n",
              "</div>"
            ],
            "text/plain": [
              "             Open        High         Low       Close   Adj Close        Volume\n",
              "count  428.000000  428.000000  428.000000  428.000000  428.000000  4.280000e+02\n",
              "mean    11.269273   11.434495   11.087423   11.246652   11.105600  8.757026e+07\n",
              "std      2.464329    2.462420    2.446746    2.445178    2.306210  5.402407e+07\n",
              "min      6.576923    6.759615    6.403846    6.451923    6.422756  2.217560e+07\n",
              "25%      9.485289    9.670000    9.287500    9.490000    9.477473  5.173280e+07\n",
              "50%     10.715000   10.820000   10.519807   10.630000   10.613526  7.106985e+07\n",
              "75%     13.182693   13.355769   13.009615   13.139423   12.924086  1.045056e+08\n",
              "max     18.490385   18.644230   18.269230   18.288462   17.709608  4.010487e+08"
            ]
          },
          "metadata": {
            "tags": []
          },
          "execution_count": 6
        }
      ]
    },
    {
      "cell_type": "code",
      "metadata": {
        "id": "CbZqaA7RniPB",
        "colab_type": "code",
        "outputId": "e6af5c6b-04db-4876-b2de-a9b0184950df",
        "colab": {
          "base_uri": "https://localhost:8080/",
          "height": 286
        }
      },
      "source": [
        "df_full[\"Adj Close\"].plot()"
      ],
      "execution_count": 7,
      "outputs": [
        {
          "output_type": "execute_result",
          "data": {
            "text/plain": [
              "<matplotlib.axes._subplots.AxesSubplot at 0x7fa6d62e7630>"
            ]
          },
          "metadata": {
            "tags": []
          },
          "execution_count": 7
        },
        {
          "output_type": "display_data",
          "data": {
            "image/png": "[encoded data removed]",
            "text/plain": [
              "<Figure size 432x288 with 1 Axes>"
            ]
          },
          "metadata": {
            "tags": []
          }
        }
      ]
    },
    {
      "cell_type": "markdown",
      "metadata": {
        "id": "2-3gEHuyrPdh",
        "colab_type": "text"
      },
      "source": [
        "PREPROCESSING\n"
      ]
    },
    {
      "cell_type": "code",
      "metadata": {
        "id": "CLymIJs0rRhU",
        "colab_type": "code",
        "colab": {}
      },
      "source": [
        "df_full.set_index(\"Date\", inplace=True)\n"
      ],
      "execution_count": 0,
      "outputs": []
    },
    {
      "cell_type": "code",
      "metadata": {
        "id": "u6VdZeJvrfDh",
        "colab_type": "code",
        "colab": {}
      },
      "source": [
        "window_size = 32\n",
        "num_samples=len(df_full)-window_size\n",
        "\n",
        "indices=np.arange(num_samples).astype(np.int)[:,None]+np.arange(window_size+1).astype(np.int)\n",
        "\n",
        "\n",
        "data = df_full['Adj Close'].values[indices]\n",
        "x = data[:,:-1]\n",
        "y = data[:,-1]\n",
        "\n",
        "\n",
        "\n",
        "\n"
      ],
      "execution_count": 0,
      "outputs": []
    },
    {
      "cell_type": "markdown",
      "metadata": {
        "id": "xLzOST0lreC9",
        "colab_type": "text"
      },
      "source": [
        "SPLITTING THE DATA BETWEEN TEST AND TRAIN"
      ]
    },
    {
      "cell_type": "code",
      "metadata": {
        "id": "_QROYqdilZh4",
        "colab_type": "code",
        "colab": {}
      },
      "source": [
        "split_fraction=0.8\n",
        "ind_split=int(split_fraction*num_samples)"
      ],
      "execution_count": 0,
      "outputs": []
    },
    {
      "cell_type": "code",
      "metadata": {
        "id": "f_BY6e8mlmBM",
        "colab_type": "code",
        "colab": {}
      },
      "source": [
        "x_train = x[:ind_split]\n",
        "y_train = y[:ind_split]\n",
        "x_test = x[ind_split:]\n",
        "y_test = y[ind_split:]"
      ],
      "execution_count": 0,
      "outputs": []
    },
    {
      "cell_type": "code",
      "metadata": {
        "id": "0ygjSqoqsJUt",
        "colab_type": "code",
        "outputId": "8f9f9969-636a-4a9a-dbc5-d47fda504b86",
        "colab": {
          "base_uri": "https://localhost:8080/",
          "height": 34
        }
      },
      "source": [
        "x_train.shape\n"
      ],
      "execution_count": 12,
      "outputs": [
        {
          "output_type": "execute_result",
          "data": {
            "text/plain": [
              "(316, 32)"
            ]
          },
          "metadata": {
            "tags": []
          },
          "execution_count": 12
        }
      ]
    },
    {
      "cell_type": "markdown",
      "metadata": {
        "id": "EOAhZiQksXMB",
        "colab_type": "text"
      },
      "source": [
        "MODELING"
      ]
    },
    {
      "cell_type": "code",
      "metadata": {
        "id": "4AM6lVG_sYst",
        "colab_type": "code",
        "colab": {}
      },
      "source": [
        " #Help Functions\n",
        "  def get_performance (model_pred):\n",
        "          #Function returns standard performance metrics\",\n",
        "       print('Mean Absolute Error:', metrics.mean_absolute_error(y_test, model_pred).round(4)),\n",
        "       print('Mean Squared Error:', metrics.mean_squared_error(y_test, model_pred).round(4)),\n",
        "       print('Root Mean Squared Error:', np.sqrt(metrics.mean_squared_error(y_test, model_pred)).round(4)),\n",
        "         \n",
        "  def get_plot (model_pred):\n",
        "      plt.scatter(model_pred, y_test, color=\"gray\")\n",
        "      plt.plot(y_test, y_test, color='red', linewidth=2)\n"
      ],
      "execution_count": 0,
      "outputs": []
    },
    {
      "cell_type": "code",
      "metadata": {
        "id": "0Oumedz6KCEf",
        "colab_type": "code",
        "colab": {}
      },
      "source": [
        "y_pred_lag=np.roll(y_test,1)"
      ],
      "execution_count": 0,
      "outputs": []
    },
    {
      "cell_type": "code",
      "metadata": {
        "id": "7ndz6JoiTLaT",
        "colab_type": "code",
        "colab": {
          "base_uri": "https://localhost:8080/",
          "height": 70
        },
        "outputId": "e6b338e3-793d-43c3-ab87-d97bc007ea9a"
      },
      "source": [
        "get_performance(y_pred_lag)"
      ],
      "execution_count": 23,
      "outputs": [
        {
          "output_type": "stream",
          "text": [
            "Mean Absolute Error: 0.1725\n",
            "Mean Squared Error: 0.0588\n",
            "Root Mean Squared Error: 0.2426\n"
          ],
          "name": "stdout"
        }
      ]
    },
    {
      "cell_type": "code",
      "metadata": {
        "id": "cR2m06P0TOqo",
        "colab_type": "code",
        "colab": {
          "base_uri": "https://localhost:8080/",
          "height": 269
        },
        "outputId": "b356d61b-9c9f-46be-a4cf-c13f7c1e7f61"
      },
      "source": [
        "get_plot(y_pred_lag)"
      ],
      "execution_count": 24,
      "outputs": [
        {
          "output_type": "display_data",
          "data": {
            "image/png": "[encoded data removed]",
            "text/plain": [
              "<Figure size 432x288 with 1 Axes>"
            ]
          },
          "metadata": {
            "tags": []
          }
        }
      ]
    },
    {
      "cell_type": "markdown",
      "metadata": {
        "id": "voi3ZSbATRaw",
        "colab_type": "text"
      },
      "source": [
        "Linear regression"
      ]
    },
    {
      "cell_type": "code",
      "metadata": {
        "id": "CbcxUFDgTdb1",
        "colab_type": "code",
        "colab": {
          "base_uri": "https://localhost:8080/",
          "height": 34
        },
        "outputId": "ee1663dd-9f9b-461c-b2b6-6c79743e2971"
      },
      "source": [
        "model_lr=LinearRegression()\n",
        "model_lr.fit(x_train, y_train)"
      ],
      "execution_count": 25,
      "outputs": [
        {
          "output_type": "execute_result",
          "data": {
            "text/plain": [
              "LinearRegression(copy_X=True, fit_intercept=True, n_jobs=None, normalize=False)"
            ]
          },
          "metadata": {
            "tags": []
          },
          "execution_count": 25
        }
      ]
    },
    {
      "cell_type": "code",
      "metadata": {
        "id": "UqCYNvKZTfyb",
        "colab_type": "code",
        "colab": {}
      },
      "source": [
        "y_pred_lr=model_lr.predict(x_test)"
      ],
      "execution_count": 0,
      "outputs": []
    },
    {
      "cell_type": "code",
      "metadata": {
        "id": "r_q5N9GVTiZl",
        "colab_type": "code",
        "colab": {
          "base_uri": "https://localhost:8080/",
          "height": 70
        },
        "outputId": "899c6f11-deb5-409f-a16f-d565c42feb90"
      },
      "source": [
        "get_performance(y_pred_lr)"
      ],
      "execution_count": 27,
      "outputs": [
        {
          "output_type": "stream",
          "text": [
            "Mean Absolute Error: 0.1728\n",
            "Mean Squared Error: 0.0588\n",
            "Root Mean Squared Error: 0.2424\n"
          ],
          "name": "stdout"
        }
      ]
    },
    {
      "cell_type": "code",
      "metadata": {
        "id": "7OUS0h0KTkDv",
        "colab_type": "code",
        "colab": {
          "base_uri": "https://localhost:8080/",
          "height": 269
        },
        "outputId": "2f03413c-a309-47d7-898f-b0c2956f9d89"
      },
      "source": [
        "get_plot(y_pred_lr)"
      ],
      "execution_count": 28,
      "outputs": [
        {
          "output_type": "display_data",
          "data": {
            "image/png": "[encoded data removed]",
            "text/plain": [
              "<Figure size 432x288 with 1 Axes>"
            ]
          },
          "metadata": {
            "tags": []
          }
        }
      ]
    },
    {
      "cell_type": "code",
      "metadata": {
        "id": "2QKANyzWTlRt",
        "colab_type": "code",
        "colab": {
          "base_uri": "https://localhost:8080/",
          "height": 70
        },
        "outputId": "423d596b-0ac8-48e0-caa7-a2708f0b61f3"
      },
      "source": [
        "get_performance(y_pred_lr)"
      ],
      "execution_count": 29,
      "outputs": [
        {
          "output_type": "stream",
          "text": [
            "Mean Absolute Error: 0.1728\n",
            "Mean Squared Error: 0.0588\n",
            "Root Mean Squared Error: 0.2424\n"
          ],
          "name": "stdout"
        }
      ]
    },
    {
      "cell_type": "markdown",
      "metadata": {
        "id": "FQj5Jt0gToDd",
        "colab_type": "text"
      },
      "source": [
        "RidgeRegression"
      ]
    },
    {
      "cell_type": "code",
      "metadata": {
        "id": "0ZBQNi6ETmhv",
        "colab_type": "code",
        "colab": {}
      },
      "source": [
        "model_ridge = Ridge()\n",
        "model_ridge.fit(x_train, y_train)\n",
        "\n",
        "#generate predictions\n",
        "y_pred_ridge=model_ridge.predict(x_test)"
      ],
      "execution_count": 0,
      "outputs": []
    },
    {
      "cell_type": "code",
      "metadata": {
        "id": "2-m4_9BjTswn",
        "colab_type": "code",
        "colab": {
          "base_uri": "https://localhost:8080/",
          "height": 70
        },
        "outputId": "243c4d4b-b884-4a2f-a343-870e0a5bba05"
      },
      "source": [
        "get_performance(y_pred_ridge)"
      ],
      "execution_count": 31,
      "outputs": [
        {
          "output_type": "stream",
          "text": [
            "Mean Absolute Error: 0.1704\n",
            "Mean Squared Error: 0.0577\n",
            "Root Mean Squared Error: 0.2402\n"
          ],
          "name": "stdout"
        }
      ]
    },
    {
      "cell_type": "code",
      "metadata": {
        "id": "8rjFFKveTv5e",
        "colab_type": "code",
        "colab": {
          "base_uri": "https://localhost:8080/",
          "height": 269
        },
        "outputId": "bc1eae28-7d99-4c2c-fbc4-71e3d3ba9ace"
      },
      "source": [
        "get_plot(y_pred_ridge)"
      ],
      "execution_count": 32,
      "outputs": [
        {
          "output_type": "display_data",
          "data": {
            "image/png": "[encoded data removed]",
            "text/plain": [
              "<Figure size 432x288 with 1 Axes>"
            ]
          },
          "metadata": {
            "tags": []
          }
        }
      ]
    },
    {
      "cell_type": "code",
      "metadata": {
        "id": "bza7x5xHTxO5",
        "colab_type": "code",
        "colab": {}
      },
      "source": [
        ""
      ],
      "execution_count": 0,
      "outputs": []
    },
    {
      "cell_type": "markdown",
      "metadata": {
        "id": "RZy5TbBpT2kj",
        "colab_type": "text"
      },
      "source": [
        "GradientBoosting Trees"
      ]
    },
    {
      "cell_type": "code",
      "metadata": {
        "id": "-4XSBu89VL4M",
        "colab_type": "code",
        "colab": {}
      },
      "source": [
        "model_gb = GradientBoostingRegressor()\n",
        "model_gb.fit(x_train, y_train)\n",
        "\n",
        "y_pred_gb = model_gb.predict(x_test)"
      ],
      "execution_count": 0,
      "outputs": []
    },
    {
      "cell_type": "code",
      "metadata": {
        "id": "cZ2vBHkxT6E1",
        "colab_type": "code",
        "colab": {
          "base_uri": "https://localhost:8080/",
          "height": 70
        },
        "outputId": "6deb03ee-e7bc-48b5-fbc0-e621f492c1cd"
      },
      "source": [
        "get_performance(y_pred_gb)"
      ],
      "execution_count": 35,
      "outputs": [
        {
          "output_type": "stream",
          "text": [
            "Mean Absolute Error: 0.2151\n",
            "Mean Squared Error: 0.0826\n",
            "Root Mean Squared Error: 0.2875\n"
          ],
          "name": "stdout"
        }
      ]
    },
    {
      "cell_type": "code",
      "metadata": {
        "id": "sc2V2KhxT9MW",
        "colab_type": "code",
        "colab": {
          "base_uri": "https://localhost:8080/",
          "height": 269
        },
        "outputId": "309423a5-8d8e-4e8a-c87a-eb0f3e5efe99"
      },
      "source": [
        "get_plot(y_pred_gb)"
      ],
      "execution_count": 36,
      "outputs": [
        {
          "output_type": "display_data",
          "data": {
            "image/png": "[encoded data removed]",
            "text/plain": [
              "<Figure size 432x288 with 1 Axes>"
            ]
          },
          "metadata": {
            "tags": []
          }
        }
      ]
    }
  ]
}